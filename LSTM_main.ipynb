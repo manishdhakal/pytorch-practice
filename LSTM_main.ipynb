{
  "nbformat": 4,
  "nbformat_minor": 0,
  "metadata": {
    "kernelspec": {
      "display_name": "base",
      "language": "python",
      "name": "base"
    },
    "language_info": {
      "codemirror_mode": {
        "name": "ipython",
        "version": 3
      },
      "file_extension": ".py",
      "mimetype": "text/x-python",
      "name": "python",
      "nbconvert_exporter": "python",
      "pygments_lexer": "ipython3",
      "version": "3.7.6"
    },
    "colab": {
      "name": "LSTM_main.ipynb",
      "provenance": []
    },
    "accelerator": "GPU"
  },
  "cells": [
    {
      "cell_type": "code",
      "metadata": {
        "id": "EGJ-EEBErgLk",
        "colab_type": "code",
        "colab": {
          "base_uri": "https://localhost:8080/",
          "height": 121
        },
        "outputId": "64df4e7a-c3d6-4dee-e06f-d2eec0759bef"
      },
      "source": [
        "from google.colab import drive\n",
        "drive.mount('/content/drive')"
      ],
      "execution_count": null,
      "outputs": [
        {
          "output_type": "stream",
          "text": [
            "Go to this URL in a browser: https://accounts.google.com/o/oauth2/auth?client_id=947318989803-6bn6qk8qdgf4n4g3pfee6491hc0brc4i.apps.googleusercontent.com&redirect_uri=urn%3aietf%3awg%3aoauth%3a2.0%3aoob&response_type=code&scope=email%20https%3a%2f%2fwww.googleapis.com%2fauth%2fdocs.test%20https%3a%2f%2fwww.googleapis.com%2fauth%2fdrive%20https%3a%2f%2fwww.googleapis.com%2fauth%2fdrive.photos.readonly%20https%3a%2f%2fwww.googleapis.com%2fauth%2fpeopleapi.readonly\n",
            "\n",
            "Enter your authorization code:\n",
            "··········\n",
            "Mounted at /content/drive\n"
          ],
          "name": "stdout"
        }
      ]
    },
    {
      "cell_type": "code",
      "metadata": {
        "scrolled": false,
        "id": "g_ijH0kUJC3p",
        "colab_type": "code",
        "colab": {}
      },
      "source": [
        "import pandas as pd\n",
        "import re\n",
        "import nltk\n",
        "from nltk.corpus import stopwords\n",
        "from sklearn.model_selection import train_test_split\n",
        "from collections import Counter\n",
        "import torch\n",
        "import torch.nn as nn\n",
        "import torch.nn.functional as F\n",
        "import torchtext\n",
        "import matplotlib.pyplot as plt\n",
        "import numpy as np\n",
        "import pickle"
      ],
      "execution_count": null,
      "outputs": []
    },
    {
      "cell_type": "code",
      "metadata": {
        "id": "ubko2Ys3sQiR",
        "colab_type": "code",
        "colab": {
          "base_uri": "https://localhost:8080/",
          "height": 67
        },
        "outputId": "a391b523-43c3-4c9e-fcf7-9fd448a144d6"
      },
      "source": [
        "nltk.download(\"stopwords\")"
      ],
      "execution_count": null,
      "outputs": [
        {
          "output_type": "stream",
          "text": [
            "[nltk_data] Downloading package stopwords to /root/nltk_data...\n",
            "[nltk_data]   Unzipping corpora/stopwords.zip.\n"
          ],
          "name": "stdout"
        },
        {
          "output_type": "execute_result",
          "data": {
            "text/plain": [
              "True"
            ]
          },
          "metadata": {
            "tags": []
          },
          "execution_count": 3
        }
      ]
    },
    {
      "cell_type": "markdown",
      "metadata": {
        "id": "_o_pHXtVhcIs",
        "colab_type": "text"
      },
      "source": [
        "## Read the data"
      ]
    },
    {
      "cell_type": "code",
      "metadata": {
        "id": "0_B0xprHJC3v",
        "colab_type": "code",
        "colab": {}
      },
      "source": [
        "df = pd.read_csv(\"drive/My Drive/datasets/imdb.csv\")"
      ],
      "execution_count": null,
      "outputs": []
    },
    {
      "cell_type": "code",
      "metadata": {
        "id": "8I_BhJyqJC31",
        "colab_type": "code",
        "colab": {
          "base_uri": "https://localhost:8080/",
          "height": 195
        },
        "outputId": "040d8ff8-66a2-411e-c583-b6619a9b1073"
      },
      "source": [
        "df.head()"
      ],
      "execution_count": null,
      "outputs": [
        {
          "output_type": "execute_result",
          "data": {
            "text/html": [
              "<div>\n",
              "<style scoped>\n",
              "    .dataframe tbody tr th:only-of-type {\n",
              "        vertical-align: middle;\n",
              "    }\n",
              "\n",
              "    .dataframe tbody tr th {\n",
              "        vertical-align: top;\n",
              "    }\n",
              "\n",
              "    .dataframe thead th {\n",
              "        text-align: right;\n",
              "    }\n",
              "</style>\n",
              "<table border=\"1\" class=\"dataframe\">\n",
              "  <thead>\n",
              "    <tr style=\"text-align: right;\">\n",
              "      <th></th>\n",
              "      <th>review</th>\n",
              "      <th>sentiment</th>\n",
              "    </tr>\n",
              "  </thead>\n",
              "  <tbody>\n",
              "    <tr>\n",
              "      <th>0</th>\n",
              "      <td>One of the other reviewers has mentioned that ...</td>\n",
              "      <td>positive</td>\n",
              "    </tr>\n",
              "    <tr>\n",
              "      <th>1</th>\n",
              "      <td>A wonderful little production. &lt;br /&gt;&lt;br /&gt;The...</td>\n",
              "      <td>positive</td>\n",
              "    </tr>\n",
              "    <tr>\n",
              "      <th>2</th>\n",
              "      <td>I thought this was a wonderful way to spend ti...</td>\n",
              "      <td>positive</td>\n",
              "    </tr>\n",
              "    <tr>\n",
              "      <th>3</th>\n",
              "      <td>Basically there's a family where a little boy ...</td>\n",
              "      <td>negative</td>\n",
              "    </tr>\n",
              "    <tr>\n",
              "      <th>4</th>\n",
              "      <td>Petter Mattei's \"Love in the Time of Money\" is...</td>\n",
              "      <td>positive</td>\n",
              "    </tr>\n",
              "  </tbody>\n",
              "</table>\n",
              "</div>"
            ],
            "text/plain": [
              "                                              review sentiment\n",
              "0  One of the other reviewers has mentioned that ...  positive\n",
              "1  A wonderful little production. <br /><br />The...  positive\n",
              "2  I thought this was a wonderful way to spend ti...  positive\n",
              "3  Basically there's a family where a little boy ...  negative\n",
              "4  Petter Mattei's \"Love in the Time of Money\" is...  positive"
            ]
          },
          "metadata": {
            "tags": []
          },
          "execution_count": 5
        }
      ]
    },
    {
      "cell_type": "code",
      "metadata": {
        "id": "HAGBLmmJJC35",
        "colab_type": "code",
        "colab": {}
      },
      "source": [
        "df.sentiment.replace([\"positive\",\"negative\"],[1,0], inplace=True)"
      ],
      "execution_count": null,
      "outputs": []
    },
    {
      "cell_type": "code",
      "metadata": {
        "id": "w4WxgFqkJC39",
        "colab_type": "code",
        "colab": {
          "base_uri": "https://localhost:8080/",
          "height": 195
        },
        "outputId": "6c5afff3-88d9-4d0e-948c-8543589f7537"
      },
      "source": [
        "df.review = df.review.str.lower()\n",
        "df.head()"
      ],
      "execution_count": null,
      "outputs": [
        {
          "output_type": "execute_result",
          "data": {
            "text/html": [
              "<div>\n",
              "<style scoped>\n",
              "    .dataframe tbody tr th:only-of-type {\n",
              "        vertical-align: middle;\n",
              "    }\n",
              "\n",
              "    .dataframe tbody tr th {\n",
              "        vertical-align: top;\n",
              "    }\n",
              "\n",
              "    .dataframe thead th {\n",
              "        text-align: right;\n",
              "    }\n",
              "</style>\n",
              "<table border=\"1\" class=\"dataframe\">\n",
              "  <thead>\n",
              "    <tr style=\"text-align: right;\">\n",
              "      <th></th>\n",
              "      <th>review</th>\n",
              "      <th>sentiment</th>\n",
              "    </tr>\n",
              "  </thead>\n",
              "  <tbody>\n",
              "    <tr>\n",
              "      <th>0</th>\n",
              "      <td>one of the other reviewers has mentioned that ...</td>\n",
              "      <td>1</td>\n",
              "    </tr>\n",
              "    <tr>\n",
              "      <th>1</th>\n",
              "      <td>a wonderful little production. &lt;br /&gt;&lt;br /&gt;the...</td>\n",
              "      <td>1</td>\n",
              "    </tr>\n",
              "    <tr>\n",
              "      <th>2</th>\n",
              "      <td>i thought this was a wonderful way to spend ti...</td>\n",
              "      <td>1</td>\n",
              "    </tr>\n",
              "    <tr>\n",
              "      <th>3</th>\n",
              "      <td>basically there's a family where a little boy ...</td>\n",
              "      <td>0</td>\n",
              "    </tr>\n",
              "    <tr>\n",
              "      <th>4</th>\n",
              "      <td>petter mattei's \"love in the time of money\" is...</td>\n",
              "      <td>1</td>\n",
              "    </tr>\n",
              "  </tbody>\n",
              "</table>\n",
              "</div>"
            ],
            "text/plain": [
              "                                              review  sentiment\n",
              "0  one of the other reviewers has mentioned that ...          1\n",
              "1  a wonderful little production. <br /><br />the...          1\n",
              "2  i thought this was a wonderful way to spend ti...          1\n",
              "3  basically there's a family where a little boy ...          0\n",
              "4  petter mattei's \"love in the time of money\" is...          1"
            ]
          },
          "metadata": {
            "tags": []
          },
          "execution_count": 7
        }
      ]
    },
    {
      "cell_type": "code",
      "metadata": {
        "id": "IElm29XKJC4F",
        "colab_type": "code",
        "colab": {}
      },
      "source": [
        "def clean_text(txt):\n",
        "    txt = txt.lower()\n",
        "    txt = re.sub('<.*?>',\" \", txt)         #Remove html tags  \n",
        "    txt = re.sub(\"[^a-z]\", \" \", txt)  #Remove special characters \n",
        "    txt =  txt.split()\n",
        "    txt = [w for w in txt if not w in set(stopwords.words(\"english\")) ]\n",
        "    \n",
        "    return txt\n",
        "# len(clean_text(txt))"
      ],
      "execution_count": null,
      "outputs": []
    },
    {
      "cell_type": "code",
      "metadata": {
        "id": "YsLXiT-fJC4I",
        "colab_type": "code",
        "colab": {}
      },
      "source": [
        "data_X = df.review.to_list()[:25000]\n",
        "data_Y = df.sentiment.to_list()[:25000]"
      ],
      "execution_count": null,
      "outputs": []
    },
    {
      "cell_type": "code",
      "metadata": {
        "id": "hrsKxS4ZJC4L",
        "colab_type": "code",
        "colab": {
          "base_uri": "https://localhost:8080/",
          "height": 67
        },
        "outputId": "58c6cb24-3d51-4987-b2e8-d237ab242c09"
      },
      "source": [
        "for i in range(len(data_X)):\n",
        "    data_X[i] = clean_text(data_X[i])\n",
        "    if (i+1) % 5000 == 0:\n",
        "      print(i+1)"
      ],
      "execution_count": null,
      "outputs": [
        {
          "output_type": "stream",
          "text": [
            "5000\n",
            "10000\n",
            "15000\n"
          ],
          "name": "stdout"
        }
      ]
    },
    {
      "cell_type": "code",
      "metadata": {
        "id": "xUHtpEmRJC4j",
        "colab_type": "code",
        "colab": {}
      },
      "source": [
        "train_X, test_X, train_Y, test_Y = train_test_split(data_X, data_Y, test_size=0.2)"
      ],
      "execution_count": null,
      "outputs": []
    },
    {
      "cell_type": "code",
      "metadata": {
        "id": "Ae5tALrbJC4u",
        "colab_type": "code",
        "colab": {}
      },
      "source": [
        "words_list = []\n",
        "for sent in train_X:\n",
        "    for word in sent:\n",
        "        words_list.append(word)"
      ],
      "execution_count": null,
      "outputs": []
    },
    {
      "cell_type": "code",
      "metadata": {
        "id": "t2quc6v3JC4z",
        "colab_type": "code",
        "colab": {}
      },
      "source": [
        "counter_words = Counter(words_list)"
      ],
      "execution_count": null,
      "outputs": []
    },
    {
      "cell_type": "code",
      "metadata": {
        "id": "HvJRBzrT_mSN",
        "colab_type": "code",
        "colab": {}
      },
      "source": [
        "with open(\"/content/drive/My Drive/models/SA_LSTM/data_X.bin\", \"wb\") as f:\n",
        "    pickle.dump(data_X,f)\n",
        "with open(\"/content/drive/My Drive/models/SA_LSTM/data_Y.bin\",\"wb\") as f:\n",
        "    pickle.dump(data_Y,f)"
      ],
      "execution_count": null,
      "outputs": []
    },
    {
      "cell_type": "code",
      "metadata": {
        "id": "me4EeVNqJC43",
        "colab_type": "code",
        "colab": {}
      },
      "source": [
        "vocab = torchtext.vocab.Vocab(counter_words,max_size=15000).stoi"
      ],
      "execution_count": null,
      "outputs": []
    },
    {
      "cell_type": "code",
      "metadata": {
        "id": "slIL_ywd4C7l",
        "colab_type": "code",
        "colab": {
          "base_uri": "https://localhost:8080/",
          "height": 34
        },
        "outputId": "b93cdbf8-6ebb-4c39-d2ff-5516a71e43f2"
      },
      "source": [
        "len(vocab)"
      ],
      "execution_count": null,
      "outputs": [
        {
          "output_type": "execute_result",
          "data": {
            "text/plain": [
              "15001"
            ]
          },
          "metadata": {
            "tags": []
          },
          "execution_count": 40
        }
      ]
    },
    {
      "cell_type": "code",
      "metadata": {
        "id": "tz0q2oygwGFB",
        "colab_type": "code",
        "colab": {}
      },
      "source": [
        "with open(\"/content/drive/My Drive/models/SA_LSTM/vocab.bin\", \"wb\") as f:\n",
        "    pickle.dump(vocab,f)"
      ],
      "execution_count": null,
      "outputs": []
    },
    {
      "cell_type": "code",
      "metadata": {
        "id": "CLcZjiWuJC48",
        "colab_type": "code",
        "colab": {}
      },
      "source": [
        "for i in range(len(train_X)):\n",
        "    for j in range(len(train_X[i])):\n",
        "        word = train_X[i][j]\n",
        "        train_X[i][j] = vocab[word]"
      ],
      "execution_count": null,
      "outputs": []
    },
    {
      "cell_type": "code",
      "metadata": {
        "id": "kLFHnkn9wNSf",
        "colab_type": "code",
        "colab": {}
      },
      "source": [
        "for i in range(len(test_X)):\n",
        "    for j in range(len(test_X[i])):\n",
        "        word = test_X[i][j]\n",
        "        test_X[i][j] = vocab[word]"
      ],
      "execution_count": null,
      "outputs": []
    },
    {
      "cell_type": "code",
      "metadata": {
        "id": "By9aYBfCJC5C",
        "colab_type": "code",
        "colab": {
          "base_uri": "https://localhost:8080/",
          "height": 265
        },
        "outputId": "2c59575c-4e78-4c01-81a3-456573e6694e"
      },
      "source": [
        "sent_lengths = [len(i) for i in train_X]\n",
        "plt.hist(sent_lengths)\n",
        "plt.show()"
      ],
      "execution_count": null,
      "outputs": [
        {
          "output_type": "display_data",
          "data": {
            "image/png": "[encoded data removed]",
            "text/plain": [
              "<Figure size 432x288 with 1 Axes>"
            ]
          },
          "metadata": {
            "tags": [],
            "needs_background": "light"
          }
        }
      ]
    },
    {
      "cell_type": "code",
      "metadata": {
        "id": "hYCXzEaKJC5G",
        "colab_type": "code",
        "colab": {}
      },
      "source": [
        "# def pad_trunc(arr, max_len):\n",
        "#     for i in range(len(arr)):\n",
        "#         temp = []\n",
        "#         for j in range(max_len):\n",
        "#             if j < len(arr[i]):\n",
        "#                 temp.append(arr[i][j])\n",
        "#             else:\n",
        "#                 temp.append(0)\n",
        "#         arr[i] = temp\n",
        "#     return arr\n",
        "def to_list_of_tensor(arr):\n",
        "    ret_arr = []\n",
        "    for tens in arr:\n",
        "        tens = [tens]\n",
        "        ret_arr.append(torch.tensor(tens))\n",
        "    return ret_arr"
      ],
      "execution_count": null,
      "outputs": []
    },
    {
      "cell_type": "code",
      "metadata": {
        "id": "GelxPdHovxPe",
        "colab_type": "code",
        "colab": {}
      },
      "source": [
        "train_X = to_list_of_tensor(train_X)\n",
        "train_Y = torch.tensor(train_Y)\n",
        "test_X = to_list_of_tensor(test_X)\n",
        "test_Y = torch.tensor(test_Y)"
      ],
      "execution_count": null,
      "outputs": []
    },
    {
      "cell_type": "code",
      "metadata": {
        "id": "QOHkfG9Gvion",
        "colab_type": "code",
        "colab": {}
      },
      "source": [
        "if torch.cuda.is_available():\n",
        "    device = torch.device(\"cuda\")\n",
        "else:\n",
        "    device = torch.device(\"cpu\") "
      ],
      "execution_count": null,
      "outputs": []
    },
    {
      "cell_type": "markdown",
      "metadata": {
        "id": "lotELqfCh36T",
        "colab_type": "text"
      },
      "source": [
        "## LSTM Model"
      ]
    },
    {
      "cell_type": "code",
      "metadata": {
        "id": "bYgK8yD3JC5L",
        "colab_type": "code",
        "colab": {}
      },
      "source": [
        "class LSTM_Model(nn.Module):\n",
        "    def __init__(self, hidden_size, embedding_dim,vocab_size):\n",
        "        super(LSTM_Model, self).__init__()\n",
        "        self.hidden_size = hidden_size\n",
        "        self.embedding = nn.Embedding(vocab_size,embedding_dim)\n",
        "        self.lstm = nn.LSTM(embedding_dim, hidden_size, 2)\n",
        "        self.predictor = nn.Linear(hidden_size,1)\n",
        "        \n",
        "    def forward(self,data):\n",
        "        \n",
        "        emb_out = self.embedding(data)\n",
        "        output, _ = self.lstm(emb_out)\n",
        "        pred = self.predictor(output[:,-1,:])    ## Use the output from the last LSTM Cell\n",
        "        label = torch.sigmoid(pred)\n",
        "        \n",
        "        return label\n"
      ],
      "execution_count": null,
      "outputs": []
    },
    {
      "cell_type": "code",
      "metadata": {
        "id": "-Fr_Pxj-JC5R",
        "colab_type": "code",
        "colab": {}
      },
      "source": [
        "def train(model, optimizer, criterion, epochs, batch_size, train_X, train_Y, test_X, test_Y):\n",
        "    for e in range(epochs):\n",
        "        train_loss = 0\n",
        "        train_acc = 0\n",
        "\n",
        "        test_loss = 0\n",
        "        test_acc = 0\n",
        "        # model.train()\n",
        "        for i in range(len(train_X)):\n",
        "            x = train_X[i].to(device)\n",
        "            y = train_Y[i:i+1].to(device)\n",
        "            y = y.float()\n",
        "            optimizer.zero_grad()\n",
        "            prediction = model(x)\n",
        "            prediction = prediction.squeeze(1)\n",
        "            loss = criterion(prediction,y)\n",
        "            loss.backward()\n",
        "            optimizer.step()\n",
        "            \n",
        "            train_loss += loss.data.item()\n",
        "            train_acc += torch.eq(prediction.round(),y).sum().item()\n",
        "        train_loss /= len(train_X)\n",
        "        train_acc /= len(train_X)\n",
        "        \n",
        "\n",
        "        for i in range(len(test_X)):\n",
        "            x = test_X[i].to(device)\n",
        "            y = test_Y[i:i+1].to(device)\n",
        "            y = y.float()\n",
        "            prediction = model(x)\n",
        "            prediction = prediction.squeeze(1)\n",
        "            loss = criterion(prediction,y)\n",
        "\n",
        "            test_loss += loss.data.item()\n",
        "            test_acc += torch.eq(prediction.round(),y).sum().item()\n",
        "        test_loss /= len(test_X)\n",
        "        test_acc /= len(test_X)\n",
        "\n",
        "        if (e+1)%10 == 0:\n",
        "            torch.save(model, \"/content/drive/My Drive/models/SA_LSTM/model/e_\" + str(e+1)+\".bin\")\n",
        "        print(\"Epoch: {}  Training (loss,acc): ({},{})  Test (loss, acc):({},{})\".format( e+1, train_loss, train_acc, test_loss, test_acc))\n"
      ],
      "execution_count": null,
      "outputs": []
    },
    {
      "cell_type": "code",
      "metadata": {
        "scrolled": true,
        "id": "XP3MZ-TyJC5T",
        "colab_type": "code",
        "colab": {
          "base_uri": "https://localhost:8080/",
          "height": 457
        },
        "outputId": "79530050-f07e-4725-8d1e-bac03bd9a4f4"
      },
      "source": [
        "vocab_size = len(vocab)\n",
        "model = LSTM_Model(100,300, vocab_size)\n",
        "\n",
        "model.to(device)\n",
        "\n",
        "optimizer = torch.optim.SGD(model.parameters(), 0.01)\n",
        "criterion = nn.BCELoss()\n",
        "\n",
        "train(model, optimizer, criterion, 100, 50, train_X, train_Y, test_X, test_Y)"
      ],
      "execution_count": null,
      "outputs": [
        {
          "output_type": "stream",
          "text": [
            "Epoch: 1  Training (loss,acc): (0.6923666529089212,0.5138)  Test (loss, acc):(0.688944425702095,0.5284)\n",
            "Epoch: 2  Training (loss,acc): (0.6765942613214254,0.5732)  Test (loss, acc):(0.666229634848237,0.5786)\n",
            "Epoch: 3  Training (loss,acc): (0.6517864498473704,0.60095)  Test (loss, acc):(0.6587404029741883,0.5918)\n",
            "Epoch: 4  Training (loss,acc): (0.6313175556384027,0.62805)  Test (loss, acc):(0.6582677534908056,0.6012)\n",
            "Epoch: 5  Training (loss,acc): (0.6144685355097056,0.64785)  Test (loss, acc):(0.662145113433525,0.605)\n",
            "Epoch: 6  Training (loss,acc): (0.6006504660399631,0.6607)  Test (loss, acc):(0.6683942809797824,0.604)\n",
            "Epoch: 7  Training (loss,acc): (0.589276663387008,0.6718)  Test (loss, acc):(0.6752902288271114,0.6058)\n",
            "Epoch: 8  Training (loss,acc): (0.5798940419183113,0.6777)  Test (loss, acc):(0.6819024157332256,0.604)\n",
            "Epoch: 9  Training (loss,acc): (0.5721677602029173,0.67885)  Test (loss, acc):(0.6876582521336153,0.6054)\n"
          ],
          "name": "stdout"
        },
        {
          "output_type": "stream",
          "text": [
            "/usr/local/lib/python3.6/dist-packages/torch/serialization.py:402: UserWarning: Couldn't retrieve source code for container of type LSTM_Model. It won't be checked for correctness upon loading.\n",
            "  \"type \" + obj.__name__ + \". It won't be checked \"\n"
          ],
          "name": "stderr"
        },
        {
          "output_type": "stream",
          "text": [
            "Epoch: 10  Training (loss,acc): (0.5657990441309987,0.67925)  Test (loss, acc):(0.692720527705364,0.6054)\n",
            "Epoch: 11  Training (loss,acc): (0.560429824092635,0.6803)  Test (loss, acc):(0.6973718810885213,0.605)\n",
            "Epoch: 12  Training (loss,acc): (0.5558590610648971,0.67945)  Test (loss, acc):(0.7018130290534347,0.6064)\n",
            "Epoch: 13  Training (loss,acc): (0.5519337650789181,0.6803)  Test (loss, acc):(0.7059431125198491,0.606)\n",
            "Epoch: 14  Training (loss,acc): (0.5484887847736128,0.68065)  Test (loss, acc):(0.7100276134869083,0.6064)\n",
            "Epoch: 15  Training (loss,acc): (0.5453822255688021,0.68095)  Test (loss, acc):(0.7140563306361437,0.6068)\n",
            "Epoch: 16  Training (loss,acc): (0.5425780954002868,0.68115)  Test (loss, acc):(0.7179260853809305,0.606)\n",
            "Epoch: 17  Training (loss,acc): (0.5400383495013346,0.68195)  Test (loss, acc):(0.721596492450824,0.606)\n",
            "Epoch: 18  Training (loss,acc): (0.5376965411976679,0.68135)  Test (loss, acc):(0.725125832038885,0.6064)\n",
            "Epoch: 19  Training (loss,acc): (0.5355191230717115,0.6826)  Test (loss, acc):(0.7285911538545974,0.6062)\n",
            "Epoch: 20  Training (loss,acc): (0.5334800004128483,0.6839)  Test (loss, acc):(0.7320271513899789,0.6048)\n",
            "Epoch: 21  Training (loss,acc): (0.5315506153451628,0.68475)  Test (loss, acc):(0.7355061868122779,0.605)\n",
            "Epoch: 22  Training (loss,acc): (0.5297176008697309,0.6846)  Test (loss, acc):(0.7390308174321893,0.6062)\n",
            "Epoch: 23  Training (loss,acc): (0.5279736055106565,0.6852)  Test (loss, acc):(0.7425694095463259,0.6066)\n"
          ],
          "name": "stdout"
        }
      ]
    },
    {
      "cell_type": "code",
      "metadata": {
        "id": "XhDegYstJC5V",
        "colab_type": "code",
        "colab": {
          "base_uri": "https://localhost:8080/",
          "height": 34
        },
        "outputId": "f80315ba-db29-46f6-ffa0-5c213749bdf8"
      },
      "source": [
        "def count_parameters(model):\n",
        "    return sum(p.numel() for p in model.parameters() if p.requires_grad)\n",
        "count_parameters(model)"
      ],
      "execution_count": null,
      "outputs": [
        {
          "output_type": "execute_result",
          "data": {
            "text/plain": [
              "5504001"
            ]
          },
          "metadata": {
            "tags": []
          },
          "execution_count": 55
        }
      ]
    }
  ]
}
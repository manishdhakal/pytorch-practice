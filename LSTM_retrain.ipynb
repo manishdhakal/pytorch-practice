{
  "nbformat": 4,
  "nbformat_minor": 0,
  "metadata": {
    "kernelspec": {
      "display_name": "base",
      "language": "python",
      "name": "base"
    },
    "language_info": {
      "codemirror_mode": {
        "name": "ipython",
        "version": 3
      },
      "file_extension": ".py",
      "mimetype": "text/x-python",
      "name": "python",
      "nbconvert_exporter": "python",
      "pygments_lexer": "ipython3",
      "version": "3.7.6"
    },
    "colab": {
      "name": "LSTM_retrain.ipynb",
      "provenance": []
    },
    "accelerator": "GPU"
  },
  "cells": [
    {
      "cell_type": "code",
      "metadata": {
        "id": "EGJ-EEBErgLk",
        "colab_type": "code",
        "colab": {
          "base_uri": "https://localhost:8080/",
          "height": 121
        },
        "outputId": "95933cc9-57b7-4219-d10a-4be2022d5a0f"
      },
      "source": [
        "from google.colab import drive\n",
        "drive.mount('/content/drive')"
      ],
      "execution_count": null,
      "outputs": [
        {
          "output_type": "stream",
          "text": [
            "Go to this URL in a browser: https://accounts.google.com/o/oauth2/auth?client_id=947318989803-6bn6qk8qdgf4n4g3pfee6491hc0brc4i.apps.googleusercontent.com&redirect_uri=urn%3aietf%3awg%3aoauth%3a2.0%3aoob&response_type=code&scope=email%20https%3a%2f%2fwww.googleapis.com%2fauth%2fdocs.test%20https%3a%2f%2fwww.googleapis.com%2fauth%2fdrive%20https%3a%2f%2fwww.googleapis.com%2fauth%2fdrive.photos.readonly%20https%3a%2f%2fwww.googleapis.com%2fauth%2fpeopleapi.readonly\n",
            "\n",
            "Enter your authorization code:\n",
            "··········\n",
            "Mounted at /content/drive\n"
          ],
          "name": "stdout"
        }
      ]
    },
    {
      "cell_type": "code",
      "metadata": {
        "scrolled": false,
        "id": "g_ijH0kUJC3p",
        "colab_type": "code",
        "colab": {}
      },
      "source": [
        "import pandas as pd\n",
        "from sklearn.model_selection import train_test_split\n",
        "import torch\n",
        "import torch.nn as nn\n",
        "import torch.nn.functional as F\n",
        "import torchtext\n",
        "import pickle\n",
        "import time"
      ],
      "execution_count": null,
      "outputs": []
    },
    {
      "cell_type": "code",
      "metadata": {
        "id": "D-2zlY14bZqg",
        "colab_type": "code",
        "colab": {}
      },
      "source": [
        "start_epoch = 1"
      ],
      "execution_count": null,
      "outputs": []
    },
    {
      "cell_type": "code",
      "metadata": {
        "id": "bYgK8yD3JC5L",
        "colab_type": "code",
        "colab": {}
      },
      "source": [
        "class LSTM_Model(nn.Module):\n",
        "    def __init__(self, hidden_size, embedding_dim,vocab_size):\n",
        "        super(LSTM_Model, self).__init__()\n",
        "        self.hidden_size = hidden_size\n",
        "        self.embedding = nn.Embedding(vocab_size,embedding_dim)\n",
        "        self.lstm = nn.LSTM(embedding_dim, hidden_size, 2)\n",
        "        self.predictor = nn.Linear(hidden_size,1)\n",
        "        \n",
        "    def forward(self,data):\n",
        "        \n",
        "        emb_out = self.embedding(data)\n",
        "        output, _ = self.lstm(emb_out)\n",
        "        pred = self.predictor(output[:,-1,:])    ## Use the output from the last LSTM Cell\n",
        "        label = torch.sigmoid(pred)\n",
        "        \n",
        "        return label\n"
      ],
      "execution_count": null,
      "outputs": []
    },
    {
      "cell_type": "code",
      "metadata": {
        "id": "35MoMr4lbK5Y",
        "colab_type": "code",
        "colab": {}
      },
      "source": [
        "model = torch.load(\"/content/drive/My Drive/models/SA_LSTM/model/e_{}.bin\".format(str(start_epoch)))"
      ],
      "execution_count": null,
      "outputs": []
    },
    {
      "cell_type": "code",
      "metadata": {
        "id": "5Qgxnpu8daZn",
        "colab_type": "code",
        "colab": {}
      },
      "source": [
        "with open(\"/content/drive/My Drive/models/SA_LSTM/data_X.bin\", \"rb\") as f:\n",
        "    data_X = pickle.load(f)\n",
        "\n",
        "with open(\"/content/drive/My Drive/models/SA_LSTM/data_Y.bin\", \"rb\") as f:\n",
        "    data_Y = pickle.load(f)\n"
      ],
      "execution_count": null,
      "outputs": []
    },
    {
      "cell_type": "code",
      "metadata": {
        "id": "xUHtpEmRJC4j",
        "colab_type": "code",
        "colab": {}
      },
      "source": [
        "train_X, test_X, train_Y, test_Y = train_test_split(data_X, data_Y, test_size=0.2)"
      ],
      "execution_count": null,
      "outputs": []
    },
    {
      "cell_type": "code",
      "metadata": {
        "id": "PBl-cYEovv7t",
        "colab_type": "code",
        "colab": {}
      },
      "source": [
        "with open(\"/content/drive/My Drive/models/SA_LSTM/vocab.bin\", \"rb\") as f:\n",
        "    vocab = pickle.load(f)"
      ],
      "execution_count": null,
      "outputs": []
    },
    {
      "cell_type": "code",
      "metadata": {
        "id": "CLcZjiWuJC48",
        "colab_type": "code",
        "colab": {}
      },
      "source": [
        "for i in range(len(train_X)):\n",
        "    for j in range(len(train_X[i])):\n",
        "        word = train_X[i][j]\n",
        "        train_X[i][j] = vocab[word]"
      ],
      "execution_count": null,
      "outputs": []
    },
    {
      "cell_type": "code",
      "metadata": {
        "id": "kLFHnkn9wNSf",
        "colab_type": "code",
        "colab": {}
      },
      "source": [
        "for i in range(len(test_X)):\n",
        "    for j in range(len(test_X[i])):\n",
        "        word = test_X[i][j]\n",
        "        test_X[i][j] = vocab[word]"
      ],
      "execution_count": null,
      "outputs": []
    },
    {
      "cell_type": "code",
      "metadata": {
        "id": "hYCXzEaKJC5G",
        "colab_type": "code",
        "colab": {}
      },
      "source": [
        "# def pad_trunc(arr, max_len):\n",
        "#     for i in range(len(arr)):\n",
        "#         temp = []\n",
        "#         for j in range(max_len):\n",
        "#             if j < len(arr[i]):\n",
        "#                 temp.append(arr[i][j])\n",
        "#             else:\n",
        "#                 temp.append(0)\n",
        "#         arr[i] = temp\n",
        "#     return arr\n",
        "def to_list_of_tensor(arr):\n",
        "    ret_arr = []\n",
        "    for tens in arr:\n",
        "        tens = [tens]\n",
        "        ret_arr.append(torch.tensor(tens))\n",
        "    return ret_arr"
      ],
      "execution_count": null,
      "outputs": []
    },
    {
      "cell_type": "code",
      "metadata": {
        "id": "GelxPdHovxPe",
        "colab_type": "code",
        "colab": {}
      },
      "source": [
        "train_X = to_list_of_tensor(train_X)\n",
        "train_Y = torch.tensor(train_Y)\n",
        "test_X = to_list_of_tensor(test_X)\n",
        "test_Y = torch.tensor(test_Y)"
      ],
      "execution_count": null,
      "outputs": []
    },
    {
      "cell_type": "code",
      "metadata": {
        "id": "QOHkfG9Gvion",
        "colab_type": "code",
        "colab": {}
      },
      "source": [
        "if torch.cuda.is_available():\n",
        "    device = torch.device(\"cuda\")\n",
        "else:\n",
        "    device = torch.device(\"cpu\") "
      ],
      "execution_count": null,
      "outputs": []
    },
    {
      "cell_type": "code",
      "metadata": {
        "id": "-Fr_Pxj-JC5R",
        "colab_type": "code",
        "colab": {}
      },
      "source": [
        "def train(model, optimizer, criterion, start_epoch, train_X, train_Y, test_X, test_Y):\n",
        "    start = time.time()\n",
        "    for e in range(start_epoch,  start_epoch + 50):\n",
        "        train_loss = 0\n",
        "        train_acc = 0\n",
        "\n",
        "        test_loss = 0\n",
        "        test_acc = 0\n",
        "        for i in range(len(train_X)):\n",
        "            x = train_X[i].to(device)\n",
        "            y = train_Y[i:i+1].to(device)\n",
        "            y = y.float()\n",
        "            optimizer.zero_grad()\n",
        "            prediction = model(x)\n",
        "            prediction = prediction.squeeze(1)\n",
        "            loss = criterion(prediction,y)\n",
        "            loss.backward()\n",
        "            optimizer.step()\n",
        "            \n",
        "            train_loss += loss.data.item()\n",
        "            train_acc += torch.eq(prediction.round(),y).sum().item()\n",
        "        train_loss /= len(train_X)\n",
        "        train_acc /= len(train_X)\n",
        "        \n",
        "\n",
        "        for i in range(len(test_X)):\n",
        "            x = test_X[i].to(device)\n",
        "            y = test_Y[i:i+1].to(device)\n",
        "            y = y.float()\n",
        "            prediction = model(x)\n",
        "            prediction = prediction.squeeze(1)\n",
        "            loss = criterion(prediction,y)\n",
        "\n",
        "            test_loss += loss.data.item()\n",
        "            test_acc += torch.eq(prediction.round(),y).sum().item()\n",
        "        test_loss /= len(test_X)\n",
        "        test_acc /= len(test_X)\n",
        "\n",
        "        if (e+1)%10 == 0:\n",
        "            torch.save(model, \"/content/drive/My Drive/models/SA_LSTM/model/e_\" + str(e+1)+\".bin\")\n",
        "        duration = (time.time() - start ) / 60\n",
        "        print(\"Epoch: {}  Training (loss,acc): ({},{})  Test (loss, acc):({},{})  Time: {}\".format( e+1, train_loss, train_acc, test_loss, test_acc, duration ))\n"
      ],
      "execution_count": null,
      "outputs": []
    },
    {
      "cell_type": "code",
      "metadata": {
        "scrolled": true,
        "id": "XP3MZ-TyJC5T",
        "colab_type": "code",
        "colab": {
          "base_uri": "https://localhost:8080/",
          "height": 339
        },
        "outputId": "4e10de61-ec78-4e83-970b-3d4ec43c213e"
      },
      "source": [
        "vocab_size = len(vocab)\n",
        "model = LSTM_Model(100,300, vocab_size)\n",
        "\n",
        "model.to(device)\n",
        "\n",
        "optimizer = torch.optim.SGD(model.parameters(), 0.01)\n",
        "criterion = nn.BCELoss()\n",
        "\n",
        "train(model, optimizer, criterion, start_epoch, train_X, train_Y, test_X, test_Y)"
      ],
      "execution_count": null,
      "outputs": [
        {
          "output_type": "stream",
          "text": [
            "Epoch: 2  Training (loss,acc): (0.6864687737550587,0.53455)  Test (loss, acc):(0.669354436661303,0.5744)  Time: 5.265171360969544\n",
            "Epoch: 3  Training (loss,acc): (0.6529640570515767,0.597475)  Test (loss, acc):(0.6546723191812635,0.5925)  Time: 10.528157969315847\n",
            "Epoch: 4  Training (loss,acc): (0.6318401426361409,0.62735)  Test (loss, acc):(0.6519695862270891,0.5963)  Time: 15.799138553937276\n",
            "Epoch: 5  Training (loss,acc): (0.618489934108546,0.6448)  Test (loss, acc):(0.6524149346228689,0.6017)  Time: 21.050539227326713\n",
            "Epoch: 6  Training (loss,acc): (0.6086469382583164,0.65605)  Test (loss, acc):(0.6540057584639639,0.6031)  Time: 26.28072670698166\n",
            "Epoch: 7  Training (loss,acc): (0.600954131556023,0.663975)  Test (loss, acc):(0.655915528306365,0.6005)  Time: 31.515857275327047\n",
            "Epoch: 8  Training (loss,acc): (0.5946370130056282,0.668775)  Test (loss, acc):(0.6576764418825507,0.601)  Time: 36.74725758632024\n",
            "Epoch: 9  Training (loss,acc): (0.5893494843515334,0.671025)  Test (loss, acc):(0.6594228617394343,0.6021)  Time: 41.97608915567398\n"
          ],
          "name": "stdout"
        },
        {
          "output_type": "stream",
          "text": [
            "/usr/local/lib/python3.6/dist-packages/torch/serialization.py:402: UserWarning: Couldn't retrieve source code for container of type LSTM_Model. It won't be checked for correctness upon loading.\n",
            "  \"type \" + obj.__name__ + \". It won't be checked \"\n"
          ],
          "name": "stderr"
        },
        {
          "output_type": "stream",
          "text": [
            "Epoch: 10  Training (loss,acc): (0.5848609350675251,0.67265)  Test (loss, acc):(0.6611891578637064,0.6055)  Time: 47.23220731417338\n",
            "Epoch: 11  Training (loss,acc): (0.5809931913838023,0.6736)  Test (loss, acc):(0.6630538691155613,0.6066)  Time: 52.460407483577725\n",
            "Epoch: 12  Training (loss,acc): (0.5776031043285038,0.674575)  Test (loss, acc):(0.6650233895076438,0.603)  Time: 57.678933227062224\n",
            "Epoch: 13  Training (loss,acc): (0.5745555488599348,0.67495)  Test (loss, acc):(0.6672911601988599,0.6025)  Time: 62.906925829251605\n",
            "Epoch: 14  Training (loss,acc): (0.5718408000110067,0.675375)  Test (loss, acc):(0.6697330732550472,0.6018)  Time: 68.1239775578181\n",
            "Epoch: 15  Training (loss,acc): (0.5693374046549783,0.67575)  Test (loss, acc):(0.672243147637602,0.6017)  Time: 73.35304605960846\n",
            "Epoch: 16  Training (loss,acc): (0.5670284673932474,0.67575)  Test (loss, acc):(0.6747465233644471,0.6017)  Time: 78.59035943746566\n",
            "Epoch: 17  Training (loss,acc): (0.5648865740240144,0.676575)  Test (loss, acc):(0.6771678296417929,0.6022)  Time: 83.83169903357823\n"
          ],
          "name": "stdout"
        }
      ]
    },
    {
      "cell_type": "code",
      "metadata": {
        "id": "XhDegYstJC5V",
        "colab_type": "code",
        "colab": {}
      },
      "source": [
        "def count_parameters(model):\n",
        "    return sum(p.numel() for p in model.parameters() if p.requires_grad)\n",
        "count_parameters(model)"
      ],
      "execution_count": null,
      "outputs": []
    }
  ]
}